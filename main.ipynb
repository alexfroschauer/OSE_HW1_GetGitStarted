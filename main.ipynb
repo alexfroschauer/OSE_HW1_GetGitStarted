{
 "cells": [
  {
   "cell_type": "code",
   "execution_count": 3,
   "id": "1fa9e221",
   "metadata": {},
   "outputs": [],
   "source": [
    "def isNaturalNumber(number):\n",
    "    if (number * 10) % 10 == 0:\n",
    "        return True\n",
    "    else:\n",
    "        return False"
   ]
  },
  {
   "cell_type": "code",
   "execution_count": 16,
   "id": "a371bdb9",
   "metadata": {},
   "outputs": [],
   "source": [
    "def isPrimeNumber(number):\n",
    "    if isNaturalNumber(number) == True: \n",
    "        if number == 2:\n",
    "            return True\n",
    "        i = 2\n",
    "        count = 0\n",
    "        while i < number - 1:\n",
    "            if number % i == 0:\n",
    "                count += 1\n",
    "                if count == 1:\n",
    "                    return False\n",
    "            i += 1\n",
    "        return True\n",
    "    else:\n",
    "        return False"
   ]
  },
  {
   "cell_type": "code",
   "execution_count": 22,
   "id": "aa95e18d",
   "metadata": {},
   "outputs": [
    {
     "name": "stdout",
     "output_type": "stream",
     "text": [
      "Requirement already satisfied: pytest in c:\\users\\froscale\\appdata\\local\\anaconda3\\lib\\site-packages (7.4.0)Note: you may need to restart the kernel to use updated packages.\n",
      "\n",
      "Requirement already satisfied: iniconfig in c:\\users\\froscale\\appdata\\local\\anaconda3\\lib\\site-packages (from pytest) (1.1.1)\n",
      "Requirement already satisfied: packaging in c:\\users\\froscale\\appdata\\local\\anaconda3\\lib\\site-packages (from pytest) (23.1)\n",
      "Requirement already satisfied: pluggy<2.0,>=0.12 in c:\\users\\froscale\\appdata\\local\\anaconda3\\lib\\site-packages (from pytest) (1.0.0)\n",
      "Requirement already satisfied: colorama in c:\\users\\froscale\\appdata\\local\\anaconda3\\lib\\site-packages (from pytest) (0.4.6)\n"
     ]
    }
   ],
   "source": [
    "pip install pytest"
   ]
  },
  {
   "cell_type": "code",
   "execution_count": 21,
   "id": "cd0fd45a",
   "metadata": {},
   "outputs": [
    {
     "data": {
      "text/plain": [
       "True"
      ]
     },
     "execution_count": 21,
     "metadata": {},
     "output_type": "execute_result"
    }
   ],
   "source": []
  },
  {
   "cell_type": "code",
   "execution_count": null,
   "id": "d45d0cd1",
   "metadata": {},
   "outputs": [],
   "source": []
  }
 ],
 "metadata": {
  "kernelspec": {
   "display_name": "Python 3 (ipykernel)",
   "language": "python",
   "name": "python3"
  },
  "language_info": {
   "codemirror_mode": {
    "name": "ipython",
    "version": 3
   },
   "file_extension": ".py",
   "mimetype": "text/x-python",
   "name": "python",
   "nbconvert_exporter": "python",
   "pygments_lexer": "ipython3",
   "version": "3.11.5"
  }
 },
 "nbformat": 4,
 "nbformat_minor": 5
}
